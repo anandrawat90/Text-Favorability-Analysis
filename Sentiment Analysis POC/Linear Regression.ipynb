{
 "cells": [
  {
   "cell_type": "code",
   "execution_count": 1,
   "metadata": {},
   "outputs": [],
   "source": [
    "from sklearn.feature_extraction.text import TfidfVectorizer\n",
    "import re\n",
    "import pandas as pd\n",
    "from sklearn.model_selection import train_test_split"
   ]
  },
  {
   "cell_type": "code",
   "execution_count": 2,
   "metadata": {},
   "outputs": [],
   "source": [
    "dataset = pd.read_csv('../Sentiment Analysis Data/Collected Dataset/WorldCupDraw Preprocessed Dataset wo Dups.csv',\n",
    "            encoding='utf-8',usecols=['text','positive_percentage'])"
   ]
  },
  {
   "cell_type": "code",
   "execution_count": 3,
   "metadata": {},
   "outputs": [
    {
     "name": "stdout",
     "output_type": "stream",
     "text": [
      "NOTE:  Only two European teams can be in the same group. Teams cannot be in the same group against opponents from t \n",
      " NOTE Only two European teams can be in the same group Teams cannot be in the same group against opponents from t\n"
     ]
    }
   ],
   "source": [
    "def clean_tweet(tweet):\n",
    "        return ' '.join(re.sub(\"(@[A-Za-z0-9_]+)|([^0-9A-Za-z \\t])|(\\w+:\\/\\/\\S+)\", \" \", tweet).split())\n",
    "print(dataset.text[1],'\\n',clean_tweet(dataset.text[1]))"
   ]
  },
  {
   "cell_type": "code",
   "execution_count": 4,
   "metadata": {},
   "outputs": [
    {
     "data": {
      "text/plain": [
       "TfidfVectorizer(analyzer='word', binary=False, decode_error='strict',\n",
       "        dtype=<class 'numpy.int64'>, encoding='utf-8', input='content',\n",
       "        lowercase=True, max_df=1.0, max_features=None, min_df=1,\n",
       "        ngram_range=(1, 1), norm='l2',\n",
       "        preprocessor=<function clean_tweet at 0x0000024117CA26A8>,\n",
       "        smooth_idf=True, stop_words=None, strip_accents=None,\n",
       "        sublinear_tf=False, token_pattern='(?u)\\\\b\\\\w\\\\w+\\\\b',\n",
       "        tokenizer=None, use_idf=True, vocabulary=None)"
      ]
     },
     "execution_count": 4,
     "metadata": {},
     "output_type": "execute_result"
    }
   ],
   "source": [
    "vectorizer = TfidfVectorizer(preprocessor=clean_tweet)\n",
    "vectorizer.fit(dataset.text)"
   ]
  },
  {
   "cell_type": "code",
   "execution_count": 5,
   "metadata": {},
   "outputs": [],
   "source": [
    "# print(vectorizer.vocabulary_)\n",
    "# print(vectorizer.idf_)"
   ]
  },
  {
   "cell_type": "code",
   "execution_count": 6,
   "metadata": {},
   "outputs": [],
   "source": [
    "data_X = vectorizer.transform(dataset.text).toarray()\n",
    "data_Y = dataset.positive_percentage"
   ]
  },
  {
   "cell_type": "code",
   "execution_count": 7,
   "metadata": {},
   "outputs": [],
   "source": [
    "# for i in data_X[1]:\n",
    "#     if i != 0:\n",
    "#         print(i)"
   ]
  },
  {
   "cell_type": "code",
   "execution_count": 8,
   "metadata": {},
   "outputs": [],
   "source": [
    "# total_number = dataset.shape[0]\n",
    "# sequences = []\n",
    "# for i in range(total_number):\n",
    "#     vector  = vectorizer.transform([dataset.text[i]])\n",
    "#     sequences.append(vector.toarray())"
   ]
  },
  {
   "cell_type": "code",
   "execution_count": 9,
   "metadata": {},
   "outputs": [],
   "source": [
    "X_train,X_test,Y_train,Y_test = train_test_split(data_X,data_Y,test_size=0.20,random_state=42)"
   ]
  },
  {
   "cell_type": "code",
   "execution_count": 10,
   "metadata": {},
   "outputs": [],
   "source": [
    "from sklearn import linear_model"
   ]
  },
  {
   "cell_type": "code",
   "execution_count": 11,
   "metadata": {},
   "outputs": [
    {
     "data": {
      "text/plain": [
       "LinearRegression(copy_X=True, fit_intercept=True, n_jobs=1, normalize=False)"
      ]
     },
     "execution_count": 11,
     "metadata": {},
     "output_type": "execute_result"
    }
   ],
   "source": [
    "model = linear_model.LinearRegression()\n",
    "model.fit(X_train,Y_train)"
   ]
  },
  {
   "cell_type": "code",
   "execution_count": 12,
   "metadata": {},
   "outputs": [],
   "source": [
    "from sklearn.metrics import mean_squared_error, r2_score, mean_absolute_error"
   ]
  },
  {
   "cell_type": "code",
   "execution_count": 13,
   "metadata": {},
   "outputs": [
    {
     "name": "stdout",
     "output_type": "stream",
     "text": [
      "Mean squared error: 10051414420293906000248832.00\n",
      "Mean absolute error: 226609681644.20\n"
     ]
    }
   ],
   "source": [
    "data_Y_pred = model.predict(X_test)\n",
    "#to print the coefficients\n",
    "# print('Coefficients: \\n',model.coef_)\n",
    "#to print the mean squared error\n",
    "print('Mean squared error: %.2f'%mean_squared_error(Y_test,data_Y_pred))\n",
    "# Explained variance score: 1 is perfect prediction\n",
    "# print('Variance score: %.2f' % r2_score(Y_test, data_Y_pred))\n",
    "# The mean absolute error of the prediction\n",
    "print('Mean absolute error: %.2f' % mean_absolute_error(Y_test,data_Y_pred))"
   ]
  },
  {
   "cell_type": "code",
   "execution_count": 14,
   "metadata": {},
   "outputs": [],
   "source": [
    "# len(model.coef_)"
   ]
  },
  {
   "cell_type": "code",
   "execution_count": 15,
   "metadata": {},
   "outputs": [],
   "source": [
    "# n = 2\n",
    "# print(data_Y[n],model.predict([data_X[n]])[0])"
   ]
  },
  {
   "cell_type": "code",
   "execution_count": null,
   "metadata": {},
   "outputs": [],
   "source": [
    "# dataset.head(n=3)"
   ]
  },
  {
   "cell_type": "code",
   "execution_count": 20,
   "metadata": {},
   "outputs": [
    {
     "name": "stdout",
     "output_type": "stream",
     "text": [
      "Mean squared error: 254.73\n",
      "Mean absolute error: 4.91\n"
     ]
    }
   ],
   "source": [
    "bayesian = linear_model.BayesianRidge()\n",
    "bayesian.fit(X_train,Y_train)\n",
    "data_Y_pred = bayesian.predict(X_test)\n",
    "#to print the coefficients\n",
    "# print('Coefficients: \\n',bayesian.coef_)\n",
    "#to print the mean squared error\n",
    "print('Mean squared error: %.2f'%mean_squared_error(Y_test,data_Y_pred))\n",
    "# Explained variance score: 1 is perfect prediction\n",
    "# print('Variance score: %.2f' % r2_score(Y_test, data_Y_pred))\n",
    "# The mean absolute error of the predictio\n",
    "print('Mean absolute error: %.2f' % mean_absolute_error(Y_test,data_Y_pred))"
   ]
  },
  {
   "cell_type": "code",
   "execution_count": 21,
   "metadata": {},
   "outputs": [
    {
     "name": "stdout",
     "output_type": "stream",
     "text": [
      "Mean squared error: 405.13\n",
      "Mean absolute error: 14.72\n"
     ]
    }
   ],
   "source": [
    "lasso = linear_model.Lasso()\n",
    "lasso.fit(X_train,Y_train)\n",
    "data_Y_pred = lasso.predict(X_test)\n",
    "#to print the coefficients\n",
    "# print('Coefficients: \\n',bayesian.coef_)\n",
    "#to print the mean squared error\n",
    "print('Mean squared error: %.2f'%mean_squared_error(Y_test,data_Y_pred))\n",
    "# Explained variance score: 1 is perfect prediction\n",
    "# print('Variance score: %.2f' % r2_score(Y_test, data_Y_pred))\n",
    "# The mean absolute error of the predictio\n",
    "print('Mean absolute error: %.2f' % mean_absolute_error(Y_test,data_Y_pred))"
   ]
  },
  {
   "cell_type": "code",
   "execution_count": null,
   "metadata": {},
   "outputs": [],
   "source": [
    "enet = linear_model.ElasticNet()\n",
    "enet.fit(X_train,Y_train)\n",
    "data_Y_pred = enet.predict(X_test)\n",
    "#to print the coefficients\n",
    "# print('Coefficients: \\n',bayesian.coef_)\n",
    "#to print the mean squared error\n",
    "print('Mean squared error: %.2f'%mean_squared_error(Y_test,data_Y_pred))\n",
    "# Explained variance score: 1 is perfect prediction\n",
    "# print('Variance score: %.2f' % r2_score(Y_test, data_Y_pred))\n",
    "# The mean absolute error of the predictio\n",
    "print('Mean absolute error: %.2f' % mean_absolute_error(Y_test,data_Y_pred))"
   ]
  }
 ],
 "metadata": {
  "kernelspec": {
   "display_name": "Python 3",
   "language": "python",
   "name": "python3"
  },
  "language_info": {
   "codemirror_mode": {
    "name": "ipython",
    "version": 3
   },
   "file_extension": ".py",
   "mimetype": "text/x-python",
   "name": "python",
   "nbconvert_exporter": "python",
   "pygments_lexer": "ipython3",
   "version": "3.6.4"
  }
 },
 "nbformat": 4,
 "nbformat_minor": 2
}
