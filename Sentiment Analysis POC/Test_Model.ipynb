{
 "cells": [
  {
   "cell_type": "code",
   "execution_count": 1,
   "metadata": {},
   "outputs": [
    {
     "name": "stderr",
     "output_type": "stream",
     "text": [
      "C:\\Users\\anand\\Anaconda3\\envs\\master_project\\lib\\site-packages\\h5py\\__init__.py:36: FutureWarning: Conversion of the second argument of issubdtype from `float` to `np.floating` is deprecated. In future, it will be treated as `np.float64 == np.dtype(float).type`.\n",
      "  from ._conv import register_converters as _register_converters\n",
      "Using TensorFlow backend.\n"
     ]
    }
   ],
   "source": [
    "from keras import models\n",
    "from Embedding_Utilities import load_data\n",
    "from os.path import join\n",
    "from pandas import get_dummies\n",
    "from numpy import asarray\n",
    "from numpy import argmax\n",
    "import pandas as pd"
   ]
  },
  {
   "cell_type": "code",
   "execution_count": 13,
   "metadata": {},
   "outputs": [],
   "source": [
    "dataset = pd.read_csv('../Sentiment Analysis Data/Collected Dataset/WorldCupDraw Preprocessed Dataset wo Dups.csv', index_col='id',usecols=['id','text','positive_percentage'])"
   ]
  },
  {
   "cell_type": "code",
   "execution_count": 18,
   "metadata": {},
   "outputs": [
    {
     "data": {
      "text/html": [
       "<div>\n",
       "<style scoped>\n",
       "    .dataframe tbody tr th:only-of-type {\n",
       "        vertical-align: middle;\n",
       "    }\n",
       "\n",
       "    .dataframe tbody tr th {\n",
       "        vertical-align: top;\n",
       "    }\n",
       "\n",
       "    .dataframe thead th {\n",
       "        text-align: right;\n",
       "    }\n",
       "</style>\n",
       "<table border=\"1\" class=\"dataframe\">\n",
       "  <thead>\n",
       "    <tr style=\"text-align: right;\">\n",
       "      <th></th>\n",
       "      <th>text</th>\n",
       "      <th>positive_percentage</th>\n",
       "    </tr>\n",
       "    <tr>\n",
       "      <th>id</th>\n",
       "      <th></th>\n",
       "      <th></th>\n",
       "    </tr>\n",
       "  </thead>\n",
       "  <tbody>\n",
       "    <tr>\n",
       "      <th>936624698753998849</th>\n",
       "      <td>@camiliuchi @tgdesrosier @tankerdude01 @stuart...</td>\n",
       "      <td>45.00</td>\n",
       "    </tr>\n",
       "    <tr>\n",
       "      <th>936605563001229312</th>\n",
       "      <td>NOTE:  Only two European teams can be in the s...</td>\n",
       "      <td>13.51</td>\n",
       "    </tr>\n",
       "    <tr>\n",
       "      <th>936610210948571136</th>\n",
       "      <td>Following the draw  I will post more informati...</td>\n",
       "      <td>13.51</td>\n",
       "    </tr>\n",
       "    <tr>\n",
       "      <th>936630386679009290</th>\n",
       "      <td>Here are your official #WorldCup groups follow...</td>\n",
       "      <td>13.89</td>\n",
       "    </tr>\n",
       "    <tr>\n",
       "      <th>936578028502765569</th>\n",
       "      <td>Please be advised that the draw will take much...</td>\n",
       "      <td>13.89</td>\n",
       "    </tr>\n",
       "  </tbody>\n",
       "</table>\n",
       "</div>"
      ],
      "text/plain": [
       "                                                                 text  \\\n",
       "id                                                                      \n",
       "936624698753998849  @camiliuchi @tgdesrosier @tankerdude01 @stuart...   \n",
       "936605563001229312  NOTE:  Only two European teams can be in the s...   \n",
       "936610210948571136  Following the draw  I will post more informati...   \n",
       "936630386679009290  Here are your official #WorldCup groups follow...   \n",
       "936578028502765569  Please be advised that the draw will take much...   \n",
       "\n",
       "                    positive_percentage  \n",
       "id                                       \n",
       "936624698753998849                45.00  \n",
       "936605563001229312                13.51  \n",
       "936610210948571136                13.51  \n",
       "936630386679009290                13.89  \n",
       "936578028502765569                13.89  "
      ]
     },
     "execution_count": 18,
     "metadata": {},
     "output_type": "execute_result"
    }
   ],
   "source": [
    "dataset[dataset.positive_percentage < 50].head()"
   ]
  },
  {
   "cell_type": "code",
   "execution_count": 24,
   "metadata": {},
   "outputs": [
    {
     "data": {
      "text/plain": [
       "'Great to have @Pele at the !'"
      ]
     },
     "execution_count": 24,
     "metadata": {},
     "output_type": "execute_result"
    }
   ],
   "source": [
    "dataset.loc[936638336805957633].text"
   ]
  },
  {
   "cell_type": "code",
   "execution_count": 2,
   "metadata": {},
   "outputs": [],
   "source": [
    "# model_name = \"TL_BI_cuDNNLSTM_L2_N196_GloVe_3f_final/3.02-0.30-0.32.hdf5\"\n",
    "# model_path = join('models/',model_name)\n",
    "# util = load_data(model_name)\n",
    "#\n",
    "# X = util.X\n",
    "# Y = get_dummies(util.Y).values\n",
    "# print(X[:5])\n",
    "# print(Y[:5])\n",
    "# model = models.load_model(model_path)\n",
    "#\n",
    "# batch_size = 256\n",
    "#\n",
    "# score,acc = model.evaluate(X, Y, verbose = 1, batch_size = batch_size)\n",
    "# print(\"score: %.2f\" % (score))\n",
    "# print(\"acc: %.2f\" % (acc))\n",
    "#\n",
    "# pos_cnt, neg_cnt, pos_correct, neg_correct = 0, 0, 0, 0\n",
    "# for x in range(len(X)):\n",
    "#\n",
    "#     result = model.predict(X[x].reshape(1, X.shape[1]), batch_size=1, verbose=2)[0]\n",
    "#\n",
    "#     if argmax(result) == argmax(Y[x]):\n",
    "#         if argmax(Y[x]) == 0:\n",
    "#             neg_correct += 1\n",
    "#         else:\n",
    "#             pos_correct += 1\n",
    "#\n",
    "#     if argmax(Y[x]) == 0:\n",
    "#         neg_cnt += 1\n",
    "#     else:\n",
    "#         pos_cnt += 1\n",
    "#\n",
    "# print(\"pos_acc\", pos_correct / pos_cnt * 100, \"%\")\n",
    "# print(\"neg_acc\", neg_correct / neg_cnt * 100, \"%\")\n"
   ]
  },
  {
   "cell_type": "code",
   "execution_count": 3,
   "metadata": {},
   "outputs": [],
   "source": [
    "model_to_load = \"models/LR_TL_BI_cuDnnLSTM_N196_GloVe_e100/69-25.80-124.41.hdf5\""
   ]
  },
  {
   "cell_type": "code",
   "execution_count": 4,
   "metadata": {},
   "outputs": [
    {
     "name": "stdout",
     "output_type": "stream",
     "text": [
      "Using utility file: C:\\Users\\anand\\Projects\\Masters Project\\Source Code\\Sentiment Analysis Data\\Collected Dataset\\WorldCupDraw Preprocessed Dataset wo Dups.csv.preProcessedData.pkl\n"
     ]
    }
   ],
   "source": [
    "util = load_data('LR_TL_BI_cuDnnLSTM_N196_GloVe_e100', data_source='../Sentiment Analysis Data/Collected Dataset/'\n",
    "                                         'WorldCupDraw Preprocessed Dataset wo Dups.csv', data_label='text',\n",
    "                 target_label='positive_percentage')"
   ]
  },
  {
   "cell_type": "code",
   "execution_count": 25,
   "metadata": {},
   "outputs": [
    {
     "data": {
      "text/plain": [
       "array(['Great to have @Pele at the !',\n",
       "       \"It's December 1st  and here is what you need to know ahead of today's :  1) The draw will take place i\"],\n",
       "      dtype='<U102')"
      ]
     },
     "execution_count": 25,
     "metadata": {},
     "output_type": "execute_result"
    }
   ],
   "source": [
    "tweet_id_1 = 936638336805957633\n",
    "tweet_id_2 = 936577032133201921\n",
    "\n",
    "X = asarray([dataset.loc[tweet_id_1].text,dataset.loc[tweet_id_2].text])\n",
    "X"
   ]
  },
  {
   "cell_type": "code",
   "execution_count": 26,
   "metadata": {},
   "outputs": [
    {
     "data": {
      "text/plain": [
       "array([[ 0,  0,  0,  0,  0,  0,  0,  0,  0,  0,  0,  0,  0,  0,  0,  0,\n",
       "         0,  0,  0,  0,  0,  0,  0,  0,  0,  0,  0,  0,  0,  0,  0,  0,\n",
       "         0,  0,  0,  0,  0,  0,  0,  0,  0,  0,  0,  0,  0,  0,  0,  0,\n",
       "         0,  0,  0,  0,  0,  0,  0,  0,  0,  0,  0,  0,  0,  0,  0,  0,\n",
       "         0,  0,  0,  0,  0,  0,  0,  0,  0,  0,  0,  0,  0,  0,  0,  0,\n",
       "         0,  0,  0,  0,  0,  0,  0,  0,  0,  0,  0,  0,  0,  0,  0,  0,\n",
       "         0,  0,  0,  0,  0,  0,  0,  0,  0,  0,  0,  0,  0,  0,  0,  0,\n",
       "         0,  0,  0,  0,  0,  0,  0,  0,  0,  0,  0,  0,  0,  0,  0,  0,\n",
       "         0,  0,  0,  0,  0,  0,  3,  1,  4,  5,  6,  2],\n",
       "       [ 0,  0,  0,  0,  0,  0,  0,  0,  0,  0,  0,  0,  0,  0,  0,  0,\n",
       "         0,  0,  0,  0,  0,  0,  0,  0,  0,  0,  0,  0,  0,  0,  0,  0,\n",
       "         0,  0,  0,  0,  0,  0,  0,  0,  0,  0,  0,  0,  0,  0,  0,  0,\n",
       "         0,  0,  0,  0,  0,  0,  0,  0,  0,  0,  0,  0,  0,  0,  0,  0,\n",
       "         0,  0,  0,  0,  0,  0,  0,  0,  0,  0,  0,  0,  0,  0,  0,  0,\n",
       "         0,  0,  0,  0,  0,  0,  0,  0,  0,  0,  0,  0,  0,  0,  0,  0,\n",
       "         0,  0,  0,  0,  0,  0,  0,  0,  0,  0,  0,  0,  0,  0,  0,  0,\n",
       "         0,  0,  0,  0,  0,  0,  0,  7,  8,  9, 10, 11, 12, 13, 14, 15,\n",
       "         1, 16, 17, 18, 19, 20,  2, 21, 22, 23, 24, 25]])"
      ]
     },
     "execution_count": 26,
     "metadata": {},
     "output_type": "execute_result"
    }
   ],
   "source": [
    "X = util.convert_data(X)\n",
    "X"
   ]
  },
  {
   "cell_type": "code",
   "execution_count": 29,
   "metadata": {},
   "outputs": [
    {
     "name": "stdout",
     "output_type": "stream",
     "text": [
      "Actual Value: 78.95, Predicted Value: 83.30\n",
      "Actual Value: 14.29, Predicted Value: 44.70\n"
     ]
    }
   ],
   "source": [
    "model = models.load_model(model_to_load)\n",
    "ground_truth = [dataset.loc[tweet_id_1].positive_percentage,dataset.loc[tweet_id_2].positive_percentage]\n",
    "prediction = model.predict(X)\n",
    "for i in range(2):\n",
    "    print('Actual Value: %.2f, Predicted Value: %.2f'%(ground_truth[i],prediction[i][0]))"
   ]
  },
  {
   "cell_type": "code",
   "execution_count": 28,
   "metadata": {},
   "outputs": [
    {
     "data": {
      "text/plain": [
       "[78.95, 14.29]"
      ]
     },
     "execution_count": 28,
     "metadata": {},
     "output_type": "execute_result"
    }
   ],
   "source": [
    "[dataset.loc[tweet_id_1].positive_percentage,dataset.loc[tweet_id_2].positive_percentage]"
   ]
  },
  {
   "cell_type": "code",
   "execution_count": null,
   "metadata": {},
   "outputs": [],
   "source": []
  }
 ],
 "metadata": {
  "kernelspec": {
   "display_name": "Python 3",
   "language": "python",
   "name": "python3"
  },
  "language_info": {
   "codemirror_mode": {
    "name": "ipython",
    "version": 3
   },
   "file_extension": ".py",
   "mimetype": "text/x-python",
   "name": "python",
   "nbconvert_exporter": "python",
   "pygments_lexer": "ipython3",
   "version": "3.6.4"
  }
 },
 "nbformat": 4,
 "nbformat_minor": 2
}
