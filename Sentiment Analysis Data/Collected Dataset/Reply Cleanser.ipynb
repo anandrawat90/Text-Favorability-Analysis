{
 "cells": [
  {
   "cell_type": "code",
   "execution_count": 2,
   "metadata": {},
   "outputs": [],
   "source": [
    "import pandas as pd\n",
    "from pandas.plotting import _converter\n",
    "import re"
   ]
  },
  {
   "cell_type": "code",
   "execution_count": 2,
   "metadata": {},
   "outputs": [],
   "source": [
    "pat = re.compile('RT @?([A-z0-9_]+):')"
   ]
  },
  {
   "cell_type": "code",
   "execution_count": 3,
   "metadata": {},
   "outputs": [],
   "source": [
    "url = re.compile('https?:.*')"
   ]
  },
  {
   "cell_type": "code",
   "execution_count": 4,
   "metadata": {},
   "outputs": [],
   "source": [
    "emoji_pattern = re.compile(r'\\\\[u|U][a-fA-F0-9]+[\\\\u|U[a-zA-F0-9]+]*')"
   ]
  },
  {
   "cell_type": "code",
   "execution_count": 5,
   "metadata": {},
   "outputs": [
    {
     "data": {
      "text/html": [
       "<div>\n",
       "<style scoped>\n",
       "    .dataframe tbody tr th:only-of-type {\n",
       "        vertical-align: middle;\n",
       "    }\n",
       "\n",
       "    .dataframe tbody tr th {\n",
       "        vertical-align: top;\n",
       "    }\n",
       "\n",
       "    .dataframe thead th {\n",
       "        text-align: right;\n",
       "    }\n",
       "</style>\n",
       "<table border=\"1\" class=\"dataframe\">\n",
       "  <thead>\n",
       "    <tr style=\"text-align: right;\">\n",
       "      <th></th>\n",
       "      <th>in_reply_to</th>\n",
       "      <th>text</th>\n",
       "      <th>emojis_used</th>\n",
       "      <th>retweet_count</th>\n",
       "      <th>like_count</th>\n",
       "    </tr>\n",
       "  </thead>\n",
       "  <tbody>\n",
       "    <tr>\n",
       "      <th>0</th>\n",
       "      <td>937247505208827904</td>\n",
       "      <td>MOTD couldn’t find anything negative to say ab...</td>\n",
       "      <td>NaN</td>\n",
       "      <td>0</td>\n",
       "      <td>1</td>\n",
       "    </tr>\n",
       "    <tr>\n",
       "      <th>1</th>\n",
       "      <td>937247505208827904</td>\n",
       "      <td>7 months of this nonsense to come</td>\n",
       "      <td>😴</td>\n",
       "      <td>0</td>\n",
       "      <td>1</td>\n",
       "    </tr>\n",
       "    <tr>\n",
       "      <th>2</th>\n",
       "      <td>937247505208827904</td>\n",
       "      <td>If he did that penalty against me first chance...</td>\n",
       "      <td>NaN</td>\n",
       "      <td>0</td>\n",
       "      <td>1</td>\n",
       "    </tr>\n",
       "    <tr>\n",
       "      <th>3</th>\n",
       "      <td>937247505208827904</td>\n",
       "      <td>He another world class</td>\n",
       "      <td>NaN</td>\n",
       "      <td>0</td>\n",
       "      <td>0</td>\n",
       "    </tr>\n",
       "    <tr>\n",
       "      <th>4</th>\n",
       "      <td>937247505208827904</td>\n",
       "      <td>I bet they are</td>\n",
       "      <td>NaN</td>\n",
       "      <td>0</td>\n",
       "      <td>0</td>\n",
       "    </tr>\n",
       "  </tbody>\n",
       "</table>\n",
       "</div>"
      ],
      "text/plain": [
       "          in_reply_to                                               text  \\\n",
       "0  937247505208827904  MOTD couldn’t find anything negative to say ab...   \n",
       "1  937247505208827904                  7 months of this nonsense to come   \n",
       "2  937247505208827904  If he did that penalty against me first chance...   \n",
       "3  937247505208827904                             He another world class   \n",
       "4  937247505208827904                                     I bet they are   \n",
       "\n",
       "  emojis_used  retweet_count  like_count  \n",
       "0         NaN              0           1  \n",
       "1          😴               0           1  \n",
       "2         NaN              0           1  \n",
       "3         NaN              0           0  \n",
       "4         NaN              0           0  "
      ]
     },
     "execution_count": 5,
     "metadata": {},
     "output_type": "execute_result"
    }
   ],
   "source": [
    "df  = pd.read_csv('Replies_WorldCupDraw.csv',encoding='utf8')\n",
    "df.head()"
   ]
  },
  {
   "cell_type": "code",
   "execution_count": 6,
   "metadata": {},
   "outputs": [
    {
     "data": {
      "text/plain": [
       "(1081697, 5)"
      ]
     },
     "execution_count": 6,
     "metadata": {},
     "output_type": "execute_result"
    }
   ],
   "source": [
    "df.shape"
   ]
  },
  {
   "cell_type": "code",
   "execution_count": 7,
   "metadata": {},
   "outputs": [],
   "source": [
    "df.rename(columns=\n",
    "         {\n",
    "             'in_reply_to':'id'\n",
    "         },inplace = True)"
   ]
  },
  {
   "cell_type": "code",
   "execution_count": 8,
   "metadata": {},
   "outputs": [
    {
     "data": {
      "text/plain": [
       "(1081696, 5)"
      ]
     },
     "execution_count": 8,
     "metadata": {},
     "output_type": "execute_result"
    }
   ],
   "source": [
    "#removing empty tweets\n",
    "df = df[df['text'].str.strip() != '']\n",
    "df.shape"
   ]
  },
  {
   "cell_type": "code",
   "execution_count": 9,
   "metadata": {},
   "outputs": [
    {
     "data": {
      "text/plain": [
       "(25, 5)"
      ]
     },
     "execution_count": 9,
     "metadata": {},
     "output_type": "execute_result"
    }
   ],
   "source": [
    "# Total number of retweets in replies\n",
    "df[df.text.str.contains('RT @[A-z0-9]+:')].shape"
   ]
  },
  {
   "cell_type": "code",
   "execution_count": 10,
   "metadata": {},
   "outputs": [],
   "source": [
    "# Test for emoji\n",
    "# sample = 'ربنا يوفق صلاح وباقي افراد المنتخب المصري'\n",
    "# t = ascii(sample)\n",
    "# emojis_used = emoji_pattern.findall(t)\n",
    "# emojis = list()\n",
    "# for u in emojis_used:\n",
    "#      a = u.encode('utf8')\n",
    "#     emojis.append(a.decode('unicode-escape'))\n",
    "# emojis"
   ]
  },
  {
   "cell_type": "code",
   "execution_count": 11,
   "metadata": {
    "scrolled": true
   },
   "outputs": [],
   "source": [
    "RT = []\n",
    "Text = []\n",
    "OTweeter = []\n",
    "\n",
    "for text in df.text:\n",
    "    retweet = text.split()[0]=='RT'\n",
    "##print(t,retweet)\n",
    "    RT.append(retweet)\n",
    "    if retweet:\n",
    "        OTweeter.append(pat.match(text).group(1) if pat.match(text) else '')\n",
    "        text = re.sub(pat,\"\",text)\n",
    "    else:\n",
    "        OTweeter.append('')\n",
    "    text = ascii(text)\n",
    "    emojis_used = emoji_pattern.findall(text)\n",
    "    emojis = list()\n",
    "    for u in emojis_used:\n",
    "        a = u.encode('utf8')\n",
    "        emojis.append(a.decode('unicode-escape'))\n",
    "    \n",
    "    emojis_used = \"\".join(emojis)\n",
    "    text = re.sub(emoji_pattern,\"\",text)\n",
    "    text = re.sub(url,\"\",text)    \n",
    "    text = text.strip('\\'')\n",
    "    text = text.strip('\\\"\\\"\\\"')\n",
    "    Text.append(text.strip())"
   ]
  },
  {
   "cell_type": "code",
   "execution_count": 12,
   "metadata": {},
   "outputs": [
    {
     "data": {
      "text/html": [
       "<div>\n",
       "<style scoped>\n",
       "    .dataframe tbody tr th:only-of-type {\n",
       "        vertical-align: middle;\n",
       "    }\n",
       "\n",
       "    .dataframe tbody tr th {\n",
       "        vertical-align: top;\n",
       "    }\n",
       "\n",
       "    .dataframe thead th {\n",
       "        text-align: right;\n",
       "    }\n",
       "</style>\n",
       "<table border=\"1\" class=\"dataframe\">\n",
       "  <thead>\n",
       "    <tr style=\"text-align: right;\">\n",
       "      <th></th>\n",
       "      <th>id</th>\n",
       "      <th>text</th>\n",
       "      <th>emojis_used</th>\n",
       "      <th>retweet_count</th>\n",
       "      <th>like_count</th>\n",
       "      <th>RT</th>\n",
       "      <th>original_tweeter</th>\n",
       "    </tr>\n",
       "  </thead>\n",
       "  <tbody>\n",
       "    <tr>\n",
       "      <th>0</th>\n",
       "      <td>937247505208827904</td>\n",
       "      <td>MOTD couldn find anything negative to say abou...</td>\n",
       "      <td>NaN</td>\n",
       "      <td>0</td>\n",
       "      <td>1</td>\n",
       "      <td>False</td>\n",
       "      <td></td>\n",
       "    </tr>\n",
       "    <tr>\n",
       "      <th>1</th>\n",
       "      <td>937247505208827904</td>\n",
       "      <td>7 months of this nonsense to come</td>\n",
       "      <td>😴</td>\n",
       "      <td>0</td>\n",
       "      <td>1</td>\n",
       "      <td>False</td>\n",
       "      <td></td>\n",
       "    </tr>\n",
       "    <tr>\n",
       "      <th>2</th>\n",
       "      <td>937247505208827904</td>\n",
       "      <td>If he did that penalty against me first chance...</td>\n",
       "      <td>NaN</td>\n",
       "      <td>0</td>\n",
       "      <td>1</td>\n",
       "      <td>False</td>\n",
       "      <td></td>\n",
       "    </tr>\n",
       "    <tr>\n",
       "      <th>3</th>\n",
       "      <td>937247505208827904</td>\n",
       "      <td>He another world class</td>\n",
       "      <td>NaN</td>\n",
       "      <td>0</td>\n",
       "      <td>0</td>\n",
       "      <td>False</td>\n",
       "      <td></td>\n",
       "    </tr>\n",
       "    <tr>\n",
       "      <th>4</th>\n",
       "      <td>937247505208827904</td>\n",
       "      <td>I bet they are</td>\n",
       "      <td>NaN</td>\n",
       "      <td>0</td>\n",
       "      <td>0</td>\n",
       "      <td>False</td>\n",
       "      <td></td>\n",
       "    </tr>\n",
       "  </tbody>\n",
       "</table>\n",
       "</div>"
      ],
      "text/plain": [
       "                   id                                               text  \\\n",
       "0  937247505208827904  MOTD couldn find anything negative to say abou...   \n",
       "1  937247505208827904                  7 months of this nonsense to come   \n",
       "2  937247505208827904  If he did that penalty against me first chance...   \n",
       "3  937247505208827904                             He another world class   \n",
       "4  937247505208827904                                     I bet they are   \n",
       "\n",
       "  emojis_used  retweet_count  like_count     RT original_tweeter  \n",
       "0         NaN              0           1  False                   \n",
       "1          😴               0           1  False                   \n",
       "2         NaN              0           1  False                   \n",
       "3         NaN              0           0  False                   \n",
       "4         NaN              0           0  False                   "
      ]
     },
     "execution_count": 12,
     "metadata": {},
     "output_type": "execute_result"
    }
   ],
   "source": [
    "df['RT'] = RT\n",
    "df['text'] = Text\n",
    "df['original_tweeter'] = OTweeter\n",
    "df.head()"
   ]
  },
  {
   "cell_type": "code",
   "execution_count": 13,
   "metadata": {},
   "outputs": [
    {
     "data": {
      "text/plain": [
       "(1061657, 7)"
      ]
     },
     "execution_count": 13,
     "metadata": {},
     "output_type": "execute_result"
    }
   ],
   "source": [
    "df = df[df['text'].str.strip() != '']\n",
    "df.shape"
   ]
  },
  {
   "cell_type": "code",
   "execution_count": 14,
   "metadata": {},
   "outputs": [
    {
     "data": {
      "text/plain": [
       "id                   int64\n",
       "text                object\n",
       "emojis_used         object\n",
       "retweet_count        int64\n",
       "like_count           int64\n",
       "RT                    bool\n",
       "original_tweeter    object\n",
       "dtype: object"
      ]
     },
     "execution_count": 14,
     "metadata": {},
     "output_type": "execute_result"
    }
   ],
   "source": [
    "df.dtypes"
   ]
  },
  {
   "cell_type": "code",
   "execution_count": 15,
   "metadata": {},
   "outputs": [],
   "source": [
    "df.to_csv('Replies_WorldCupDraw_Cleansed.csv',encoding='utf8',index=False)"
   ]
  },
  {
   "cell_type": "code",
   "execution_count": 16,
   "metadata": {},
   "outputs": [
    {
     "data": {
      "text/plain": [
       "(106548, 11)"
      ]
     },
     "execution_count": 16,
     "metadata": {},
     "output_type": "execute_result"
    }
   ],
   "source": [
    "org_tweet = pd.read_csv('WorldCupDraw_Cleansed.csv',encoding='utf8')\n",
    "org_tweet.shape"
   ]
  },
  {
   "cell_type": "code",
   "execution_count": 17,
   "metadata": {},
   "outputs": [
    {
     "data": {
      "text/plain": [
       "(1058559, 17)"
      ]
     },
     "execution_count": 17,
     "metadata": {},
     "output_type": "execute_result"
    }
   ],
   "source": [
    "dataset = pd.merge(org_tweet,df,how='inner',on='id',sort=False)\n",
    "dataset.shape"
   ]
  },
  {
   "cell_type": "code",
   "execution_count": 18,
   "metadata": {},
   "outputs": [
    {
     "data": {
      "text/html": [
       "<div>\n",
       "<style scoped>\n",
       "    .dataframe tbody tr th:only-of-type {\n",
       "        vertical-align: middle;\n",
       "    }\n",
       "\n",
       "    .dataframe tbody tr th {\n",
       "        vertical-align: top;\n",
       "    }\n",
       "\n",
       "    .dataframe thead th {\n",
       "        text-align: right;\n",
       "    }\n",
       "</style>\n",
       "<table border=\"1\" class=\"dataframe\">\n",
       "  <thead>\n",
       "    <tr style=\"text-align: right;\">\n",
       "      <th></th>\n",
       "      <th>id</th>\n",
       "      <th>text_x</th>\n",
       "      <th>screen_name</th>\n",
       "      <th>retweet_count_x</th>\n",
       "      <th>favorite_count</th>\n",
       "      <th>friends_count</th>\n",
       "      <th>followers_count</th>\n",
       "      <th>url</th>\n",
       "      <th>RT_x</th>\n",
       "      <th>original_tweeter_x</th>\n",
       "      <th>emojis_used_x</th>\n",
       "      <th>text_y</th>\n",
       "      <th>emojis_used_y</th>\n",
       "      <th>retweet_count_y</th>\n",
       "      <th>like_count</th>\n",
       "      <th>RT_y</th>\n",
       "      <th>original_tweeter_y</th>\n",
       "    </tr>\n",
       "  </thead>\n",
       "  <tbody>\n",
       "    <tr>\n",
       "      <th>0</th>\n",
       "      <td>937247505208827904</td>\n",
       "      <td>Eden Hazard says the England and Belgium playe...</td>\n",
       "      <td>SPonTheBall</td>\n",
       "      <td>35</td>\n",
       "      <td>0</td>\n",
       "      <td>81</td>\n",
       "      <td>25</td>\n",
       "      <td>https://t.co/0Ekz6haggd</td>\n",
       "      <td>True</td>\n",
       "      <td>BBCMOTD</td>\n",
       "      <td>NaN</td>\n",
       "      <td>MOTD couldn find anything negative to say abou...</td>\n",
       "      <td>NaN</td>\n",
       "      <td>0</td>\n",
       "      <td>1</td>\n",
       "      <td>False</td>\n",
       "      <td></td>\n",
       "    </tr>\n",
       "    <tr>\n",
       "      <th>1</th>\n",
       "      <td>937247505208827904</td>\n",
       "      <td>Eden Hazard says the England and Belgium playe...</td>\n",
       "      <td>SPonTheBall</td>\n",
       "      <td>35</td>\n",
       "      <td>0</td>\n",
       "      <td>81</td>\n",
       "      <td>25</td>\n",
       "      <td>https://t.co/0Ekz6haggd</td>\n",
       "      <td>True</td>\n",
       "      <td>BBCMOTD</td>\n",
       "      <td>NaN</td>\n",
       "      <td>7 months of this nonsense to come</td>\n",
       "      <td>😴</td>\n",
       "      <td>0</td>\n",
       "      <td>1</td>\n",
       "      <td>False</td>\n",
       "      <td></td>\n",
       "    </tr>\n",
       "  </tbody>\n",
       "</table>\n",
       "</div>"
      ],
      "text/plain": [
       "                   id                                             text_x  \\\n",
       "0  937247505208827904  Eden Hazard says the England and Belgium playe...   \n",
       "1  937247505208827904  Eden Hazard says the England and Belgium playe...   \n",
       "\n",
       "   screen_name  retweet_count_x  favorite_count  friends_count  \\\n",
       "0  SPonTheBall               35               0             81   \n",
       "1  SPonTheBall               35               0             81   \n",
       "\n",
       "   followers_count                      url  RT_x original_tweeter_x  \\\n",
       "0               25  https://t.co/0Ekz6haggd  True            BBCMOTD   \n",
       "1               25  https://t.co/0Ekz6haggd  True            BBCMOTD   \n",
       "\n",
       "  emojis_used_x                                             text_y  \\\n",
       "0           NaN  MOTD couldn find anything negative to say abou...   \n",
       "1           NaN                  7 months of this nonsense to come   \n",
       "\n",
       "  emojis_used_y  retweet_count_y  like_count   RT_y original_tweeter_y  \n",
       "0           NaN                0           1  False                     \n",
       "1            😴                 0           1  False                     "
      ]
     },
     "execution_count": 18,
     "metadata": {},
     "output_type": "execute_result"
    }
   ],
   "source": [
    "dataset.head(n=2)"
   ]
  },
  {
   "cell_type": "code",
   "execution_count": 19,
   "metadata": {},
   "outputs": [
    {
     "data": {
      "text/plain": [
       "(6, 17)"
      ]
     },
     "execution_count": 19,
     "metadata": {},
     "output_type": "execute_result"
    }
   ],
   "source": [
    "dataset[dataset.id == 937247505208827904].shape"
   ]
  },
  {
   "cell_type": "code",
   "execution_count": 20,
   "metadata": {},
   "outputs": [
    {
     "data": {
      "text/plain": [
       "0    MOTD couldn find anything negative to say abou...\n",
       "1                    7 months of this nonsense to come\n",
       "2    If he did that penalty against me first chance...\n",
       "3                               He another world class\n",
       "4                                       I bet they are\n",
       "5                             Hazard has always right.\n",
       "Name: text_y, dtype: object"
      ]
     },
     "execution_count": 20,
     "metadata": {},
     "output_type": "execute_result"
    }
   ],
   "source": [
    "dataset[dataset.id == 937247505208827904].text_y"
   ]
  },
  {
   "cell_type": "code",
   "execution_count": 21,
   "metadata": {},
   "outputs": [],
   "source": [
    "stat_dataset = dataset.groupby('id')"
   ]
  },
  {
   "cell_type": "code",
   "execution_count": 22,
   "metadata": {},
   "outputs": [],
   "source": [
    "# %matplotlib inline\n",
    "# stat_dataset.count().plot(kind='bar')"
   ]
  },
  {
   "cell_type": "code",
   "execution_count": 23,
   "metadata": {},
   "outputs": [],
   "source": [
    "number_of_replies = stat_dataset.id.count()\n",
    "avg_reply_fav_count = stat_dataset.like_count.mean()\n",
    "avg_reply_fav_retweet_count = stat_dataset.retweet_count_y.mean()"
   ]
  },
  {
   "cell_type": "code",
   "execution_count": 24,
   "metadata": {},
   "outputs": [],
   "source": [
    "x_id = set(dataset.id)"
   ]
  },
  {
   "cell_type": "code",
   "execution_count": 25,
   "metadata": {},
   "outputs": [],
   "source": [
    "# for i,r in org_tweet.iterrows():\n",
    "#     if r.id not in x_id:\n",
    "#         print(r.url)\n",
    "has_replies = []\n",
    "reply_count = []\n",
    "reply_fav = []\n",
    "reply_retweet = []\n",
    "for i,v in org_tweet.iterrows():\n",
    "    valid = v.id in x_id\n",
    "    has_replies.append(valid)\n",
    "    if valid:\n",
    "        reply_count.append(number_of_replies[v.id])\n",
    "        reply_fav.append(avg_reply_fav_count[v.id])\n",
    "        reply_retweet.append(avg_reply_fav_retweet_count[v.id])\n",
    "    \n",
    "org_tweet = org_tweet[has_replies]\n",
    "# print(org_tweet.shape,len(reply_count))\n",
    "org_tweet['reply_count'] = reply_count\n",
    "org_tweet['avg_reply_retweet'] = reply_retweet\n",
    "org_tweet['avg_reply_fav'] = reply_fav"
   ]
  },
  {
   "cell_type": "code",
   "execution_count": 26,
   "metadata": {},
   "outputs": [
    {
     "data": {
      "text/html": [
       "<div>\n",
       "<style scoped>\n",
       "    .dataframe tbody tr th:only-of-type {\n",
       "        vertical-align: middle;\n",
       "    }\n",
       "\n",
       "    .dataframe tbody tr th {\n",
       "        vertical-align: top;\n",
       "    }\n",
       "\n",
       "    .dataframe thead th {\n",
       "        text-align: right;\n",
       "    }\n",
       "</style>\n",
       "<table border=\"1\" class=\"dataframe\">\n",
       "  <thead>\n",
       "    <tr style=\"text-align: right;\">\n",
       "      <th></th>\n",
       "      <th>id</th>\n",
       "      <th>text</th>\n",
       "      <th>screen_name</th>\n",
       "      <th>retweet_count</th>\n",
       "      <th>favorite_count</th>\n",
       "      <th>friends_count</th>\n",
       "      <th>followers_count</th>\n",
       "      <th>url</th>\n",
       "      <th>RT</th>\n",
       "      <th>original_tweeter</th>\n",
       "      <th>emojis_used</th>\n",
       "      <th>reply_count</th>\n",
       "      <th>avg_reply_retweet</th>\n",
       "      <th>avg_reply_fav</th>\n",
       "    </tr>\n",
       "  </thead>\n",
       "  <tbody>\n",
       "    <tr>\n",
       "      <th>0</th>\n",
       "      <td>937247505208827904</td>\n",
       "      <td>Eden Hazard says the England and Belgium playe...</td>\n",
       "      <td>SPonTheBall</td>\n",
       "      <td>35</td>\n",
       "      <td>0</td>\n",
       "      <td>81</td>\n",
       "      <td>25</td>\n",
       "      <td>https://t.co/0Ekz6haggd</td>\n",
       "      <td>True</td>\n",
       "      <td>BBCMOTD</td>\n",
       "      <td>NaN</td>\n",
       "      <td>6</td>\n",
       "      <td>0.000000</td>\n",
       "      <td>0.500000</td>\n",
       "    </tr>\n",
       "    <tr>\n",
       "      <th>1</th>\n",
       "      <td>937247428973088768</td>\n",
       "      <td>Legend!    #SCFC</td>\n",
       "      <td>boothen_talers</td>\n",
       "      <td>396</td>\n",
       "      <td>0</td>\n",
       "      <td>294</td>\n",
       "      <td>287</td>\n",
       "      <td>https://t.co/NF4w2eDNXp</td>\n",
       "      <td>True</td>\n",
       "      <td>stokecity</td>\n",
       "      <td>👔😎🔴⚪️</td>\n",
       "      <td>17</td>\n",
       "      <td>0.058824</td>\n",
       "      <td>2.176471</td>\n",
       "    </tr>\n",
       "    <tr>\n",
       "      <th>2</th>\n",
       "      <td>937246905980952576</td>\n",
       "      <td>And South Korea round off Group F!  What do yo...</td>\n",
       "      <td>naneth_mandagi</td>\n",
       "      <td>1181</td>\n",
       "      <td>0</td>\n",
       "      <td>181</td>\n",
       "      <td>65</td>\n",
       "      <td>https://t.co/nCqErE1w9P</td>\n",
       "      <td>True</td>\n",
       "      <td>DFB_Team_EN</td>\n",
       "      <td>🇰🇷</td>\n",
       "      <td>17</td>\n",
       "      <td>0.529412</td>\n",
       "      <td>14.647059</td>\n",
       "    </tr>\n",
       "    <tr>\n",
       "      <th>3</th>\n",
       "      <td>937246600803618816</td>\n",
       "      <td>When @matshummels and @os_alanis play against ...</td>\n",
       "      <td>Drizzy__Fake</td>\n",
       "      <td>1582</td>\n",
       "      <td>0</td>\n",
       "      <td>109</td>\n",
       "      <td>306</td>\n",
       "      <td>https://t.co/udLBbxZPKM</td>\n",
       "      <td>True</td>\n",
       "      <td>FCBayernUS</td>\n",
       "      <td>NaN</td>\n",
       "      <td>18</td>\n",
       "      <td>0.833333</td>\n",
       "      <td>7.944444</td>\n",
       "    </tr>\n",
       "    <tr>\n",
       "      <th>4</th>\n",
       "      <td>937245866456428545</td>\n",
       "      <td>When you find out you gotta play @DeBruyneKev ...</td>\n",
       "      <td>egn_ho</td>\n",
       "      <td>3313</td>\n",
       "      <td>0</td>\n",
       "      <td>518</td>\n",
       "      <td>643</td>\n",
       "      <td>https://t.co/d1LQSMB5Nu</td>\n",
       "      <td>True</td>\n",
       "      <td>kylewalker2</td>\n",
       "      <td>NaN</td>\n",
       "      <td>17</td>\n",
       "      <td>0.823529</td>\n",
       "      <td>82.176471</td>\n",
       "    </tr>\n",
       "  </tbody>\n",
       "</table>\n",
       "</div>"
      ],
      "text/plain": [
       "                   id                                               text  \\\n",
       "0  937247505208827904  Eden Hazard says the England and Belgium playe...   \n",
       "1  937247428973088768                                   Legend!    #SCFC   \n",
       "2  937246905980952576  And South Korea round off Group F!  What do yo...   \n",
       "3  937246600803618816  When @matshummels and @os_alanis play against ...   \n",
       "4  937245866456428545  When you find out you gotta play @DeBruyneKev ...   \n",
       "\n",
       "      screen_name  retweet_count  favorite_count  friends_count  \\\n",
       "0     SPonTheBall             35               0             81   \n",
       "1  boothen_talers            396               0            294   \n",
       "2  naneth_mandagi           1181               0            181   \n",
       "3    Drizzy__Fake           1582               0            109   \n",
       "4          egn_ho           3313               0            518   \n",
       "\n",
       "   followers_count                      url    RT original_tweeter  \\\n",
       "0               25  https://t.co/0Ekz6haggd  True          BBCMOTD   \n",
       "1              287  https://t.co/NF4w2eDNXp  True        stokecity   \n",
       "2               65  https://t.co/nCqErE1w9P  True      DFB_Team_EN   \n",
       "3              306  https://t.co/udLBbxZPKM  True       FCBayernUS   \n",
       "4              643  https://t.co/d1LQSMB5Nu  True      kylewalker2   \n",
       "\n",
       "  emojis_used  reply_count  avg_reply_retweet  avg_reply_fav  \n",
       "0         NaN            6           0.000000       0.500000  \n",
       "1       👔😎🔴⚪️           17           0.058824       2.176471  \n",
       "2          🇰🇷           17           0.529412      14.647059  \n",
       "3         NaN           18           0.833333       7.944444  \n",
       "4         NaN           17           0.823529      82.176471  "
      ]
     },
     "execution_count": 26,
     "metadata": {},
     "output_type": "execute_result"
    }
   ],
   "source": [
    "org_tweet.head()"
   ]
  },
  {
   "cell_type": "code",
   "execution_count": 27,
   "metadata": {},
   "outputs": [
    {
     "data": {
      "text/plain": [
       "(77382, 14)"
      ]
     },
     "execution_count": 27,
     "metadata": {},
     "output_type": "execute_result"
    }
   ],
   "source": [
    "org_tweet.shape"
   ]
  },
  {
   "cell_type": "code",
   "execution_count": 28,
   "metadata": {},
   "outputs": [],
   "source": [
    "org_tweet.to_csv('WorldCupDraw_Cleansed_final.csv',encoding='utf8',index=False)"
   ]
  },
  {
   "cell_type": "code",
   "execution_count": 35,
   "metadata": {},
   "outputs": [
    {
     "data": {
      "text/plain": [
       "id                       0\n",
       "text                     0\n",
       "screen_name              0\n",
       "retweet_count            0\n",
       "favorite_count           0\n",
       "friends_count            0\n",
       "followers_count          0\n",
       "url                      0\n",
       "RT                       0\n",
       "original_tweeter      6833\n",
       "emojis_used          43533\n",
       "reply_count              0\n",
       "avg_reply_retweet        0\n",
       "avg_reply_fav            0\n",
       "dtype: int64"
      ]
     },
     "execution_count": 35,
     "metadata": {},
     "output_type": "execute_result"
    }
   ],
   "source": [
    "org_tweet.isnull().sum()"
   ]
  },
  {
   "cell_type": "code",
   "execution_count": 36,
   "metadata": {},
   "outputs": [
    {
     "data": {
      "text/plain": [
       "id                       0\n",
       "text                     0\n",
       "emojis_used         850526\n",
       "retweet_count            0\n",
       "like_count               0\n",
       "RT                       0\n",
       "original_tweeter         0\n",
       "dtype: int64"
      ]
     },
     "execution_count": 36,
     "metadata": {},
     "output_type": "execute_result"
    }
   ],
   "source": [
    "df.isnull().sum()"
   ]
  },
  {
   "cell_type": "code",
   "execution_count": 38,
   "metadata": {},
   "outputs": [
    {
     "name": "stdout",
     "output_type": "stream",
     "text": [
      "<class 'pandas.core.frame.DataFrame'>\n",
      "Int64Index: 77382 entries, 0 to 106547\n",
      "Data columns (total 14 columns):\n",
      "id                   77382 non-null int64\n",
      "text                 77382 non-null object\n",
      "screen_name          77382 non-null object\n",
      "retweet_count        77382 non-null int64\n",
      "favorite_count       77382 non-null int64\n",
      "friends_count        77382 non-null int64\n",
      "followers_count      77382 non-null int64\n",
      "url                  77382 non-null object\n",
      "RT                   77382 non-null bool\n",
      "original_tweeter     70549 non-null object\n",
      "emojis_used          33849 non-null object\n",
      "reply_count          77382 non-null int64\n",
      "avg_reply_retweet    77382 non-null float64\n",
      "avg_reply_fav        77382 non-null float64\n",
      "dtypes: bool(1), float64(2), int64(6), object(5)\n",
      "memory usage: 33.5 MB\n"
     ]
    }
   ],
   "source": [
    "org_tweet.info(memory_usage='deep')"
   ]
  },
  {
   "cell_type": "code",
   "execution_count": 1,
   "metadata": {},
   "outputs": [
    {
     "ename": "NameError",
     "evalue": "name 'org_tweet' is not defined",
     "output_type": "error",
     "traceback": [
      "\u001b[1;31m---------------------------------------------------------------------------\u001b[0m",
      "\u001b[1;31mNameError\u001b[0m                                 Traceback (most recent call last)",
      "\u001b[1;32m<ipython-input-1-a766918fe381>\u001b[0m in \u001b[0;36m<module>\u001b[1;34m()\u001b[0m\n\u001b[1;32m----> 1\u001b[1;33m \u001b[0morg_tweet\u001b[0m\u001b[1;33m.\u001b[0m\u001b[0mhead\u001b[0m\u001b[1;33m(\u001b[0m\u001b[1;33m)\u001b[0m\u001b[1;33m\u001b[0m\u001b[0m\n\u001b[0m",
      "\u001b[1;31mNameError\u001b[0m: name 'org_tweet' is not defined"
     ]
    }
   ],
   "source": [
    "org_tweet.head()"
   ]
  },
  {
   "cell_type": "code",
   "execution_count": null,
   "metadata": {},
   "outputs": [],
   "source": []
  }
 ],
 "metadata": {
  "kernelspec": {
   "display_name": "Python 3",
   "language": "python",
   "name": "python3"
  },
  "language_info": {
   "codemirror_mode": {
    "name": "ipython",
    "version": 3
   },
   "file_extension": ".py",
   "mimetype": "text/x-python",
   "name": "python",
   "nbconvert_exporter": "python",
   "pygments_lexer": "ipython3",
   "version": "3.6.4"
  }
 },
 "nbformat": 4,
 "nbformat_minor": 2
}
