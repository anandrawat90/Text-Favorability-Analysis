{
 "cells": [
  {
   "cell_type": "code",
   "execution_count": 1,
   "metadata": {},
   "outputs": [],
   "source": [
    "import pandas as pd\n",
    "import re\n",
    "# import emoji"
   ]
  },
  {
   "cell_type": "code",
   "execution_count": 2,
   "metadata": {},
   "outputs": [],
   "source": [
    "# pat = re.compile('RT @?(.+):')\n",
    "pat = re.compile('RT @?([A-z0-9_]+):')"
   ]
  },
  {
   "cell_type": "code",
   "execution_count": 3,
   "metadata": {},
   "outputs": [],
   "source": [
    "url = re.compile('https?:.*')"
   ]
  },
  {
   "cell_type": "code",
   "execution_count": 4,
   "metadata": {},
   "outputs": [],
   "source": [
    "# emoji_pattern = re.compile(\"[\"\n",
    "#                            u\"\\U0001F600-\\U0001F64F\"  # emoticons\n",
    "#                            u\"\\U0001F300-\\U0001F5FF\"  # symbols & pictographs\n",
    "#                            u\"\\U0001F680-\\U0001F6FF\"  # transport & map symbols\n",
    "#                            u\"\\U0001F1E0-\\U0001F1FF\"  # flags (iOS)\n",
    "#                            u\"\\U00002600-\\U000027BF\"\n",
    "#                            \"]\", flags=re.UNICODE)\n",
    "emoji_pattern = re.compile(r'\\\\[u|U][a-fA-F0-9]+[\\\\u|U[a-zA-F0-9]+]*')"
   ]
  },
  {
   "cell_type": "code",
   "execution_count": 13,
   "metadata": {},
   "outputs": [
    {
     "data": {
      "text/plain": [
       "(106548, 8)"
      ]
     },
     "execution_count": 13,
     "metadata": {},
     "output_type": "execute_result"
    }
   ],
   "source": [
    "df  = pd.read_csv('WorldCupDraw.csv',encoding='utf-8')\n",
    "df.shape"
   ]
  },
  {
   "cell_type": "code",
   "execution_count": 6,
   "metadata": {},
   "outputs": [
    {
     "data": {
      "text/html": [
       "<div>\n",
       "<style scoped>\n",
       "    .dataframe tbody tr th:only-of-type {\n",
       "        vertical-align: middle;\n",
       "    }\n",
       "\n",
       "    .dataframe tbody tr th {\n",
       "        vertical-align: top;\n",
       "    }\n",
       "\n",
       "    .dataframe thead th {\n",
       "        text-align: right;\n",
       "    }\n",
       "</style>\n",
       "<table border=\"1\" class=\"dataframe\">\n",
       "  <thead>\n",
       "    <tr style=\"text-align: right;\">\n",
       "      <th></th>\n",
       "      <th>id</th>\n",
       "      <th>text</th>\n",
       "      <th>screen_name</th>\n",
       "      <th>retweet_count</th>\n",
       "      <th>favorite_count</th>\n",
       "      <th>friends_count</th>\n",
       "      <th>followers_count</th>\n",
       "      <th>url</th>\n",
       "    </tr>\n",
       "  </thead>\n",
       "  <tbody>\n",
       "    <tr>\n",
       "      <th>0</th>\n",
       "      <td>937247505208827904</td>\n",
       "      <td>RT @BBCMOTD: Eden Hazard says the England and ...</td>\n",
       "      <td>SPonTheBall</td>\n",
       "      <td>35</td>\n",
       "      <td>0</td>\n",
       "      <td>81</td>\n",
       "      <td>25</td>\n",
       "      <td>https://t.co/0Ekz6haggd</td>\n",
       "    </tr>\n",
       "    <tr>\n",
       "      <th>1</th>\n",
       "      <td>937247428973088768</td>\n",
       "      <td>RT @stokecity: Legend! 👔😎  #WorldCupDraw #SCFC...</td>\n",
       "      <td>boothen_talers</td>\n",
       "      <td>396</td>\n",
       "      <td>0</td>\n",
       "      <td>294</td>\n",
       "      <td>287</td>\n",
       "      <td>https://t.co/NF4w2eDNXp</td>\n",
       "    </tr>\n",
       "    <tr>\n",
       "      <th>2</th>\n",
       "      <td>937246905980952576</td>\n",
       "      <td>RT @DFB_Team_EN: And South Korea round off Gro...</td>\n",
       "      <td>naneth_mandagi</td>\n",
       "      <td>1181</td>\n",
       "      <td>0</td>\n",
       "      <td>181</td>\n",
       "      <td>65</td>\n",
       "      <td>https://t.co/nCqErE1w9P</td>\n",
       "    </tr>\n",
       "    <tr>\n",
       "      <th>3</th>\n",
       "      <td>937246600803618816</td>\n",
       "      <td>RT @FCBayernUS: When @matshummels and @os_alan...</td>\n",
       "      <td>Drizzy__Fake</td>\n",
       "      <td>1582</td>\n",
       "      <td>0</td>\n",
       "      <td>109</td>\n",
       "      <td>306</td>\n",
       "      <td>https://t.co/udLBbxZPKM</td>\n",
       "    </tr>\n",
       "    <tr>\n",
       "      <th>4</th>\n",
       "      <td>937245866456428545</td>\n",
       "      <td>RT @kylewalker2: When you find out you gotta p...</td>\n",
       "      <td>egn_ho</td>\n",
       "      <td>3313</td>\n",
       "      <td>0</td>\n",
       "      <td>518</td>\n",
       "      <td>643</td>\n",
       "      <td>https://t.co/d1LQSMB5Nu</td>\n",
       "    </tr>\n",
       "  </tbody>\n",
       "</table>\n",
       "</div>"
      ],
      "text/plain": [
       "                   id                                               text  \\\n",
       "0  937247505208827904  RT @BBCMOTD: Eden Hazard says the England and ...   \n",
       "1  937247428973088768  RT @stokecity: Legend! 👔😎  #WorldCupDraw #SCFC...   \n",
       "2  937246905980952576  RT @DFB_Team_EN: And South Korea round off Gro...   \n",
       "3  937246600803618816  RT @FCBayernUS: When @matshummels and @os_alan...   \n",
       "4  937245866456428545  RT @kylewalker2: When you find out you gotta p...   \n",
       "\n",
       "      screen_name  retweet_count  favorite_count  friends_count  \\\n",
       "0     SPonTheBall             35               0             81   \n",
       "1  boothen_talers            396               0            294   \n",
       "2  naneth_mandagi           1181               0            181   \n",
       "3    Drizzy__Fake           1582               0            109   \n",
       "4          egn_ho           3313               0            518   \n",
       "\n",
       "   followers_count                      url  \n",
       "0               25  https://t.co/0Ekz6haggd  \n",
       "1              287  https://t.co/NF4w2eDNXp  \n",
       "2               65  https://t.co/nCqErE1w9P  \n",
       "3              306  https://t.co/udLBbxZPKM  \n",
       "4              643  https://t.co/d1LQSMB5Nu  "
      ]
     },
     "execution_count": 6,
     "metadata": {},
     "output_type": "execute_result"
    }
   ],
   "source": [
    "df.head() "
   ]
  },
  {
   "cell_type": "code",
   "execution_count": 14,
   "metadata": {},
   "outputs": [],
   "source": [
    "RT = []\n",
    "Text = []\n",
    "OTweeter = []\n",
    "Emojis = []\n",
    "for t in df['text']:\n",
    "    retweet = t.split()[0]=='RT'\n",
    "    ##print(t,retweet)\n",
    "    RT.append(retweet)\n",
    "    text = t\n",
    "    if retweet:\n",
    "        OTweeter.append(pat.match(t).group(1) if pat.match(t) else '')\n",
    "        text = re.sub(pat,\"\",t)\n",
    "    else:\n",
    "        OTweeter.append('')\n",
    "    text = ascii(text)\n",
    "#     emojis_used = list()\n",
    "#     t = \"\"\n",
    "#     for c in text:\n",
    "#         if c in emoji.UNICODE_EMOJI:\n",
    "#             emojis_used.append(c)\n",
    "#         else:\n",
    "#             t = t + c\n",
    "#     text = t\n",
    "    emojis_used = emoji_pattern.findall(text)\n",
    "    emojis = list()\n",
    "#     print(t)\n",
    "    for u in emojis_used:\n",
    "        a = u.encode('utf8')\n",
    "#         print(u,a)\n",
    "        emojis.append(a.decode('unicode-escape'))\n",
    "    \n",
    "    emojis_used = \"\".join(emojis)\n",
    "    text = re.sub(emoji_pattern,\"\",text)\n",
    "    text = re.sub(url,\"\",text)\n",
    "    \n",
    "    text = text.replace('#WorldCupDraw','').strip()\n",
    "    text = text.strip('\\'')\n",
    "    text = text.strip('\\\"\\\"\\\"')\n",
    "#     text = text.encode('utf8')\n",
    "    Text.append(text.strip())\n",
    "    Emojis.append(emojis_used)\n",
    "\n",
    "df['RT'] = RT\n",
    "df['text'] = Text\n",
    "df['original_tweeter'] = OTweeter\n",
    "df['emojis_used'] = Emojis"
   ]
  },
  {
   "cell_type": "code",
   "execution_count": 15,
   "metadata": {},
   "outputs": [
    {
     "data": {
      "text/html": [
       "<div>\n",
       "<style scoped>\n",
       "    .dataframe tbody tr th:only-of-type {\n",
       "        vertical-align: middle;\n",
       "    }\n",
       "\n",
       "    .dataframe tbody tr th {\n",
       "        vertical-align: top;\n",
       "    }\n",
       "\n",
       "    .dataframe thead th {\n",
       "        text-align: right;\n",
       "    }\n",
       "</style>\n",
       "<table border=\"1\" class=\"dataframe\">\n",
       "  <thead>\n",
       "    <tr style=\"text-align: right;\">\n",
       "      <th></th>\n",
       "      <th>id</th>\n",
       "      <th>text</th>\n",
       "      <th>screen_name</th>\n",
       "      <th>retweet_count</th>\n",
       "      <th>favorite_count</th>\n",
       "      <th>friends_count</th>\n",
       "      <th>followers_count</th>\n",
       "      <th>url</th>\n",
       "      <th>RT</th>\n",
       "      <th>original_tweeter</th>\n",
       "      <th>emojis_used</th>\n",
       "    </tr>\n",
       "  </thead>\n",
       "  <tbody>\n",
       "    <tr>\n",
       "      <th>0</th>\n",
       "      <td>937247505208827904</td>\n",
       "      <td>Eden Hazard says the England and Belgium playe...</td>\n",
       "      <td>SPonTheBall</td>\n",
       "      <td>35</td>\n",
       "      <td>0</td>\n",
       "      <td>81</td>\n",
       "      <td>25</td>\n",
       "      <td>https://t.co/0Ekz6haggd</td>\n",
       "      <td>True</td>\n",
       "      <td>BBCMOTD</td>\n",
       "      <td></td>\n",
       "    </tr>\n",
       "    <tr>\n",
       "      <th>1</th>\n",
       "      <td>937247428973088768</td>\n",
       "      <td>Legend!    #SCFC</td>\n",
       "      <td>boothen_talers</td>\n",
       "      <td>396</td>\n",
       "      <td>0</td>\n",
       "      <td>294</td>\n",
       "      <td>287</td>\n",
       "      <td>https://t.co/NF4w2eDNXp</td>\n",
       "      <td>True</td>\n",
       "      <td>stokecity</td>\n",
       "      <td>👔😎🔴⚪️</td>\n",
       "    </tr>\n",
       "    <tr>\n",
       "      <th>2</th>\n",
       "      <td>937246905980952576</td>\n",
       "      <td>And South Korea round off Group F!  What do yo...</td>\n",
       "      <td>naneth_mandagi</td>\n",
       "      <td>1181</td>\n",
       "      <td>0</td>\n",
       "      <td>181</td>\n",
       "      <td>65</td>\n",
       "      <td>https://t.co/nCqErE1w9P</td>\n",
       "      <td>True</td>\n",
       "      <td>DFB_Team_EN</td>\n",
       "      <td>🇰🇷</td>\n",
       "    </tr>\n",
       "    <tr>\n",
       "      <th>3</th>\n",
       "      <td>937246600803618816</td>\n",
       "      <td>When @matshummels and @os_alanis play against ...</td>\n",
       "      <td>Drizzy__Fake</td>\n",
       "      <td>1582</td>\n",
       "      <td>0</td>\n",
       "      <td>109</td>\n",
       "      <td>306</td>\n",
       "      <td>https://t.co/udLBbxZPKM</td>\n",
       "      <td>True</td>\n",
       "      <td>FCBayernUS</td>\n",
       "      <td></td>\n",
       "    </tr>\n",
       "    <tr>\n",
       "      <th>4</th>\n",
       "      <td>937245866456428545</td>\n",
       "      <td>When you find out you gotta play @DeBruyneKev ...</td>\n",
       "      <td>egn_ho</td>\n",
       "      <td>3313</td>\n",
       "      <td>0</td>\n",
       "      <td>518</td>\n",
       "      <td>643</td>\n",
       "      <td>https://t.co/d1LQSMB5Nu</td>\n",
       "      <td>True</td>\n",
       "      <td>kylewalker2</td>\n",
       "      <td></td>\n",
       "    </tr>\n",
       "  </tbody>\n",
       "</table>\n",
       "</div>"
      ],
      "text/plain": [
       "                   id                                               text  \\\n",
       "0  937247505208827904  Eden Hazard says the England and Belgium playe...   \n",
       "1  937247428973088768                                   Legend!    #SCFC   \n",
       "2  937246905980952576  And South Korea round off Group F!  What do yo...   \n",
       "3  937246600803618816  When @matshummels and @os_alanis play against ...   \n",
       "4  937245866456428545  When you find out you gotta play @DeBruyneKev ...   \n",
       "\n",
       "      screen_name  retweet_count  favorite_count  friends_count  \\\n",
       "0     SPonTheBall             35               0             81   \n",
       "1  boothen_talers            396               0            294   \n",
       "2  naneth_mandagi           1181               0            181   \n",
       "3    Drizzy__Fake           1582               0            109   \n",
       "4          egn_ho           3313               0            518   \n",
       "\n",
       "   followers_count                      url    RT original_tweeter emojis_used  \n",
       "0               25  https://t.co/0Ekz6haggd  True          BBCMOTD              \n",
       "1              287  https://t.co/NF4w2eDNXp  True        stokecity       👔😎🔴⚪️  \n",
       "2               65  https://t.co/nCqErE1w9P  True      DFB_Team_EN          🇰🇷  \n",
       "3              306  https://t.co/udLBbxZPKM  True       FCBayernUS              \n",
       "4              643  https://t.co/d1LQSMB5Nu  True      kylewalker2              "
      ]
     },
     "execution_count": 15,
     "metadata": {},
     "output_type": "execute_result"
    }
   ],
   "source": [
    "df.head()"
   ]
  },
  {
   "cell_type": "code",
   "execution_count": 16,
   "metadata": {},
   "outputs": [
    {
     "data": {
      "text/plain": [
       "id                   int64\n",
       "text                object\n",
       "screen_name         object\n",
       "retweet_count        int64\n",
       "favorite_count       int64\n",
       "friends_count        int64\n",
       "followers_count      int64\n",
       "url                 object\n",
       "RT                    bool\n",
       "original_tweeter    object\n",
       "emojis_used         object\n",
       "dtype: object"
      ]
     },
     "execution_count": 16,
     "metadata": {},
     "output_type": "execute_result"
    }
   ],
   "source": [
    "df.dtypes"
   ]
  },
  {
   "cell_type": "code",
   "execution_count": 17,
   "metadata": {},
   "outputs": [
    {
     "data": {
      "text/plain": [
       "(106548, 11)"
      ]
     },
     "execution_count": 17,
     "metadata": {},
     "output_type": "execute_result"
    }
   ],
   "source": [
    "df = df[df['text'].str.strip() != '']\n",
    "df.shape"
   ]
  },
  {
   "cell_type": "code",
   "execution_count": 18,
   "metadata": {},
   "outputs": [],
   "source": [
    "df.to_csv(path_or_buf='WorldCupDraw_Cleansed.csv',index=False,encoding='utf-8')"
   ]
  },
  {
   "cell_type": "code",
   "execution_count": 21,
   "metadata": {},
   "outputs": [
    {
     "name": "stdout",
     "output_type": "stream",
     "text": [
      "999.065134963 4.4556444044 1286.7842287 31680.6121466\n"
     ]
    }
   ],
   "source": [
    "print(df.retweet_count.mean(),df.favorite_count.mean(),df.friends_count.mean(),df.followers_count.mean())"
   ]
  },
  {
   "cell_type": "code",
   "execution_count": 22,
   "metadata": {},
   "outputs": [
    {
     "data": {
      "text/plain": [
       "106548"
      ]
     },
     "execution_count": 22,
     "metadata": {},
     "output_type": "execute_result"
    }
   ],
   "source": [
    "df.id.nunique()"
   ]
  },
  {
   "cell_type": "code",
   "execution_count": null,
   "metadata": {},
   "outputs": [],
   "source": []
  }
 ],
 "metadata": {
  "kernelspec": {
   "display_name": "Python 3",
   "language": "python",
   "name": "python3"
  },
  "language_info": {
   "codemirror_mode": {
    "name": "ipython",
    "version": 3
   },
   "file_extension": ".py",
   "mimetype": "text/x-python",
   "name": "python",
   "nbconvert_exporter": "python",
   "pygments_lexer": "ipython3",
   "version": "3.6.4"
  }
 },
 "nbformat": 4,
 "nbformat_minor": 2
}
